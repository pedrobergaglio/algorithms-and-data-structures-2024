{
 "cells": [
  {
   "cell_type": "markdown",
   "metadata": {},
   "source": [
    "**2**\n",
    "\n",
    "La propiedad de estabilidad es la propiedad de mantener un orden previo al ordenar la lista por otro criterio. \n",
    "Por ejemplo si tuvieramos los números ordenados por color, y ahora los ordenamos por número, si nuestro algoritmo es estable, \n",
    "al terminar de ordenar la lista, por cada grupo de números iguales, la lista nos debería quedar ordenada por color.\n",
    "\n",
    "Si no es estable esto no pasa. \n",
    "\n",
    "En heapSort esto no pasa ya que al heapificar la lista se ordenan los elementos formando el arbol horizontalmente, capa a capa.\n",
    "Sin embargo al ir ordenandose con el siftUp, los elementos más grandes se mueven verticalmente en el arbol, sin importar cualquier orden previo."
   ]
  },
  {
   "cell_type": "markdown",
   "metadata": {},
   "source": [
    "**3**\n",
    "\n",
    "Se podrían utilizar los algs Insertion o Merge. Merge sería mejor en general O(n+m), pero dada su complejidad en la implementación, \n",
    "para una lista desordenada corta es viable y se acercaría a o(n)"
   ]
  },
  {
   "cell_type": "markdown",
   "metadata": {},
   "source": [
    "**4**\n",
    "\n",
    "Podríamos usar selection sorting hasta k que tiene una complejidad de k*n.\n",
    "\n",
    "Si k es mayor a logn, ya es recomendable usar merge o heap sort sobre todo el algoritmo, ya que tendremos nlogn que sera menor que nk.\n"
   ]
  },
  {
   "cell_type": "markdown",
   "metadata": {},
   "source": [
    "**5**\n",
    "\n",
    "Utilizaría merge sort ya que este va a dividir la lista hasta alcanzar la granularidad necesaria y tener las listas s_i que ya están ordenadas, y luego las uniría de manera eficiente. Este método aprovecha al máximo la situación de tener listas ordenadas concatenadas."
   ]
  },
  {
   "cell_type": "markdown",
   "metadata": {},
   "source": [
    "**6**\n",
    "\n",
    "Ordenar por cantidad de apariciones, y si se repiten, por menor valor\n",
    "\n",
    "Crearía un diccionario para k = valor, v = cantidad de apariciones.\n",
    "\n",
    "Luego se ordena por valor, y después por cantidad de apariciones, al final se crea la lista devuelta.\n",
    "\n",
    "Seguramente se pueda hacer esto mismo sin tener que armar y desarmar toda la lista..."
   ]
  },
  {
   "cell_type": "code",
   "execution_count": 11,
   "metadata": {},
   "outputs": [
    {
     "data": {
      "text/plain": [
       "[1, 1, 1, 7, 7, 7, 3, 3, 2]"
      ]
     },
     "execution_count": 11,
     "metadata": {},
     "output_type": "execute_result"
    }
   ],
   "source": [
    "def merge_sort(arr, key=None, reverse=False):\n",
    "    if len(arr) > 1:\n",
    "        mid = len(arr) // 2\n",
    "        L = arr[:mid]\n",
    "        R = arr[mid:]\n",
    "\n",
    "        merge_sort(L, key, reverse)\n",
    "        merge_sort(R, key, reverse)\n",
    "\n",
    "        i = j = k = 0\n",
    "\n",
    "        while i < len(L) and j < len(R):\n",
    "            if key:\n",
    "                left = key(L[i])\n",
    "                right = key(R[j])\n",
    "            else:\n",
    "                left = L[i]\n",
    "                right = R[j]\n",
    "\n",
    "            if (left < right and not reverse) or (left > right and reverse):\n",
    "                arr[k] = L[i]\n",
    "                i += 1\n",
    "            else:\n",
    "                arr[k] = R[j]\n",
    "                j += 1\n",
    "            k += 1\n",
    "\n",
    "        while i < len(L):\n",
    "            arr[k] = L[i]\n",
    "            i += 1\n",
    "            k += 1\n",
    "\n",
    "        while j < len(R):\n",
    "            arr[k] = R[j]\n",
    "            j += 1\n",
    "            k += 1\n",
    "\n",
    "def merge_sort_dict_items(arr, key=None, reverse=False):\n",
    "    if len(arr) > 1:\n",
    "        mid = len(arr) // 2\n",
    "        L = arr[:mid]\n",
    "        R = arr[mid:]\n",
    "\n",
    "        merge_sort_dict_items(L, key, reverse)\n",
    "        merge_sort_dict_items(R, key, reverse)\n",
    "\n",
    "        i = j = k = 0\n",
    "\n",
    "        while i < len(L) and j < len(R):\n",
    "            if key:\n",
    "                left = key(L[i])\n",
    "                right = key(R[j])\n",
    "            else:\n",
    "                left = L[i]\n",
    "                right = R[j]\n",
    "\n",
    "            if (left < right and not reverse) or (left > right and reverse):\n",
    "                arr[k] = L[i]\n",
    "                i += 1\n",
    "            else:\n",
    "                arr[k] = R[j]\n",
    "                j += 1\n",
    "            k += 1\n",
    "\n",
    "        while i < len(L):\n",
    "            arr[k] = L[i]\n",
    "            i += 1\n",
    "            k += 1\n",
    "\n",
    "        while j < len(R):\n",
    "            arr[k] = R[j]\n",
    "            j += 1\n",
    "            k += 1\n",
    "\n",
    "frequency_dict = {}\n",
    "array = [1, 3, 1, 7, 2, 7, 1, 7, 3]\n",
    "\n",
    "for i in range(0, len(array)): #O(n)\n",
    "    if array[i] in frequency_dict:\n",
    "        frequency_dict[array[i]] += 1\n",
    "    else:\n",
    "        frequency_dict[array[i]] = 1\n",
    "\n",
    "# SORTING WITH MERGE SORT BY KEY\n",
    "sorted_by_key = list(frequency_dict.keys())\n",
    "merge_sort(sorted_by_key) #O(nlogn)\n",
    "\n",
    "# SORTING WITH MERGE SORT BY VALUE\n",
    "sorted_by_value = list(frequency_dict.items())\n",
    "merge_sort_dict_items(sorted_by_value, key=lambda x: (-x[1], x[0])) #O(nlogn)\n",
    "\n",
    "# CREATE THE ARRAY BACK \n",
    "sorted_array = [item for sublist in [[k] * v for k, v in sorted_by_value] for item in sublist]\n",
    "sorted_array\n",
    "\n",
    "# O(n) + O(nlogn) + O(nlogn) = O(nlogn)\n"
   ]
  },
  {
   "cell_type": "markdown",
   "metadata": {},
   "source": [
    "**7**\n",
    "\n",
    "Primero se recorre toda la lista y se guardan todas las escaleras con una lista de listas.\n",
    "\n",
    "Se ordenan las listas según el primer elemento.\n",
    "\n",
    "Se ordena la lista de listas de manera decreciente respecto a su longitud utilizando un algoritmo estable, merge."
   ]
  },
  {
   "cell_type": "code",
   "execution_count": 17,
   "metadata": {},
   "outputs": [
    {
     "name": "stdout",
     "output_type": "stream",
     "text": [
      "[[5, 6], [7, 8, 9], [8, 9, 10], [15], [20]]\n"
     ]
    },
    {
     "data": {
      "text/plain": [
       "[7, 8, 9, 8, 9, 10, 5, 6, 15, 20]"
      ]
     },
     "execution_count": 17,
     "metadata": {},
     "output_type": "execute_result"
    }
   ],
   "source": [
    "array = [5, 6, 8, 9, 10, 7, 8, 9, 20, 15]\n",
    "\n",
    "# CREATE ESCALERAS (LIST OF LISTS)\n",
    "escaleras = []\n",
    "for i in range(0, len(array)): #O(n)\n",
    "    if i == 0:\n",
    "        escaleras.append([array[i]])\n",
    "    else:\n",
    "        if array[i] == escaleras[-1][-1] + 1:\n",
    "            escaleras[-1].append(array[i])\n",
    "        else:\n",
    "            escaleras.append([array[i]])\n",
    "\n",
    "\n",
    "# ORDENAR SEGUN PRIMER ELEMENTO DE LA LISTA\n",
    "escaleras = sorted(escaleras, key=lambda x: x[0]) #O(nlogn)\n",
    "print(escaleras)\n",
    "\n",
    "# ORDERNAR SEGUN LONGITUD DE LA LISTA\n",
    "escaleras = sorted(escaleras, key=lambda x: len(x), reverse=True) #O(nlogn)\n",
    "\n",
    "# O(n) + O(nlogn) + O(nlogn) = O(nlogn)\n",
    "\n",
    "# CREATE THE ARRAY BACK\n",
    "sorted_array = [item for sublist in escaleras for item in sublist]\n",
    "sorted_array"
   ]
  },
  {
   "cell_type": "markdown",
   "metadata": {},
   "source": [
    "**8**\n",
    "\n",
    "El AVL permite encontrar el mínimo valor en logn ya que está balanceado, y eliminarlo y balancearlo también logn, pero en realidad es\n",
    "logd, con d los valores distintos\n",
    "\n",
    "Pero AVL sólo permite distintos, así que en realidad será un AVL de diccionarios, con clave con el número, y el valor la cantidad (se va bajando y si la cantidad es 0 se elimina)\n",
    "\n",
    "Luego vamos sacando cada uno formando el array. Quedaría nlogd."
   ]
  },
  {
   "cell_type": "markdown",
   "metadata": {},
   "source": [
    "**9**\n",
    "\n"
   ]
  },
  {
   "cell_type": "markdown",
   "metadata": {},
   "source": [
    "**16**\n",
    "\n",
    "1. Hay que usar counting sort, pero usando k = n que es el largo del array\n",
    "\n",
    "    Queda O(n+n) = O(n)\n",
    "\n",
    "2. Usamos bucket sort para dividir en n grupos.\n",
    "\n",
    "    Luego dividimos cada valor de la lista por n, y ordenamos en cada grupo según el valor que nos dé esa división.\n",
    "\n",
    "    Todos los valores van a estar entre 0 y n\n",
    "\n",
    "    Ahí usamos en cada grupo el algoritmo anterior (al volver a agregarlos al array final hay que multiplicarlos por n)\n",
    "\n",
    "    La complejidad resultante es O(n + n) + O(n) = O(n)\n",
    "\n",
    "    ---\n",
    "\n",
    "    Alternativa con radix pseudo codigo\n",
    "\n",
    "    a = array input\n",
    "    b = [(,)] // tuplas\n",
    "\n",
    "    for i in a.len\n",
    "        b.agregarAtras(A[i]//n, A[i] mod n)\n",
    "    \n",
    "    b.menoresQueN(b) \n",
    "    b.menoresQueN(b)\n",
    "    res = []\n",
    "\n",
    "    // hay que aclarar que recorremos y agregamos al final la formula, a la explicación de arriba le falta un poco de detalle\n",
    "    for i in b.len \n",
    "        res.agregarAtras(b[i][0]*n + b[i][1])\n",
    "    \n",
    "    return res\n",
    "\n",
    "3. Hay que usar k-uplas\n",
    "\n",
    "    a = array input\n",
    "    b = [( , , ... ,)] // k-uplas\n",
    "\n",
    "    for i in a.len\n",
    "        for j in k\n",
    "            b[i][j] = (A[i]//n^j) mod n^k\n",
    "    \n",
    "    for i in range k:\n",
    "        b.menoresQueN(b)\n",
    "\n",
    "    res = []\n",
    "\n",
    "    // reconstruir res ...\n",
    "    \n",
    "    return res // queda complejidad O(nk)\n",
    "\n",
    "4. Luego, si k no es acotado, queda complejidad O(n^2)\n"
   ]
  },
  {
   "cell_type": "markdown",
   "metadata": {},
   "source": [
    "**19**\n",
    "\n",
    "Usamos un bucket sort de |crit|+1 buckets\n",
    "\n",
    "A cada bucket le corresponden los elementos siguiendo el criterio, y uno extra para los que no están en crit.\n",
    "\n",
    "Se ordenan los buckets que ya están ordenados, y el de los extras usando merge, que es O(nlogn)\n",
    "\n",
    "O(n+n) + O(nlogn) = O(nlogn)\n",
    "\n",
    "Se concatenan los buckets en el orden de crit\n",
    "\n",
    "---\n",
    "\n",
    "Resolución de belén\n",
    "\n",
    "Pasar crit a DictLog (las claves) y el valor la posicion en crit, nlogn ya que agregar es logn\n",
    "\n",
    "Recorrer s y chequear si está en las claves, que es O(nlogn) \n",
    "\n",
    "    Si está en crit, lo agrego a una lista A de tuplas\n",
    "\n",
    "        El valor junto con la posición en donde va en el crit\n",
    "\n",
    "    Si no está, lo agrego a una lista B\n",
    "\n",
    "(Pasamos a arrays las listas enlazadas)\n",
    "\n",
    "Ordenamos A según los segundos valores de los indicies usando merge nlogn\n",
    "\n",
    "Ordenamos B usando merge nlogn\n",
    "\n",
    "Concatenamos\n",
    "\n",
    "\n"
   ]
  },
  {
   "cell_type": "markdown",
   "metadata": {},
   "source": [
    "**18**\n",
    "\n",
    "Creo un dictLog donde guardo los distintos estudiantes"
   ]
  },
  {
   "cell_type": "markdown",
   "metadata": {},
   "source": []
  }
 ],
 "metadata": {
  "kernelspec": {
   "display_name": "Python 3",
   "language": "python",
   "name": "python3"
  },
  "language_info": {
   "codemirror_mode": {
    "name": "ipython",
    "version": 3
   },
   "file_extension": ".py",
   "mimetype": "text/x-python",
   "name": "python",
   "nbconvert_exporter": "python",
   "pygments_lexer": "ipython3",
   "version": "3.11.1"
  }
 },
 "nbformat": 4,
 "nbformat_minor": 2
}

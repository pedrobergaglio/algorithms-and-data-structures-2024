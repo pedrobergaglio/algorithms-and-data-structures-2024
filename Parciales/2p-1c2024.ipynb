{
 "cells": [
  {
   "cell_type": "markdown",
   "metadata": {},
   "source": [
    "1. \n",
    "\n",
    "A. Para insertar en estas condiciones, primero debemos hacer la copia en O(n), luego recorrer la lista enlazada en O(n) en peor caso, y comparando en cada posicion en O(logn). \n",
    "\n",
    "Como para cada una de las n posiciones debemos comparar, ahi tenemos una complejidad temporal de O(nlogn)\n",
    "\n",
    "Finalmente la complejidad de todo el algoritmo seria: O(n) + O(nlogn) = O(nlogn)\n",
    "\n",
    "B. No es cierto. La cota inferior del peor caso de un algoritmo no nos restringe la cota del mismo en el mejor caso. Por ejemplo en un algoritmo de busqueda lineal, el peor caso donde el elemento no esta en la estructura, puede ser ohm(n), mientras que el mejor caso, que el primer elemento sea el buscado, puede ser O(1) justamente.\n",
    "\n",
    "C. Es falso. Que no haya interseccion entre la cota inferior de g y la superior de f, no implica que no haya interseccion entre la cota superior de g y la cota inferior de f.\n",
    "\n",
    "Por ejemplo, si ohm(f(n)) = ohm(1), O(f(n)) = O(n), ohm(g(n)) = ohm(nlogn)y O(g(n)) = O(n^2), \n",
    "se da la hipotesis, pero la interseccion entre ohm(f(n)) y O(g(n)) no es vacia, va desde las funciones de orden constante a las cuadraticas."
   ]
  },
  {
   "cell_type": "markdown",
   "metadata": {},
   "source": [
    "2. \n",
    "\n",
    "A. Utilizaria un DiccionarioLog para almacenar tanto las relaciones de izq como las der, donde la clave es un T1 o T2 respectivamente, usando ConjuntoLog en cada valor. \n",
    "\n",
    "Para agregar en cualquiera de los dos se obtiene primero la clave en O(logn o m) y luego se agrega en O(logn o m) (el otro). Queda O(logn) +  O(logm) +  O(logm) +  O(logn) =  O(logn + logm) \n",
    "\n",
    "Luego retornar las relaciones busca el conjunto en el DictLog en O(logm o n)\n",
    "\n",
    "var relIzq DiccionarioLog<T1, ConjuntoLog<T2>>\n",
    "var relDer DiccionarioLog<T2, ConjuntoLog<T1>>\n",
    "\n",
    "B. Para lograr O(1) con el que mas relaciones tiene debemos utilizar otro atributo donde guardar el T1 que mas reaciones tiene. Al agregar nuevas relaciones, debemos consultar si el tamanio del conjuntoLog donde guardamos es mayor al tamano guardado, si es asi, lo reemplazamos.\n",
    "\n",
    "cantidad es int\n",
    "var masRelacionesIzq tupla<T1, cantidad>\n",
    "\n",
    "C. pred InvRep(r:RelImp)\n",
    "\n",
    "- un T1 contiene a un T2 si solo si ese T2 contiene a T1 en su conjuntoLog\n",
    "//- para todo t : T1, t pertenece a relIzq si solo si existe t2:T2 en relDer, cuyo conjuntoLog contiene a t.\n",
    "//- para todo t : T2, t pertenece a relDer si solo si existe t1:T1 en relIz1, cuyo conjuntoLog contiene a t.\n",
    "- masRelacionesIzq[0] pertenece a relIzq y masRelacionesIzq[1] es no negativo\n",
    "- la suma de todas las relaciones en Izq es igual a las de Der\n",
    "\n",
    "D. pred Abs (r:RelImp, r':TADRelaciones)\n",
    "\n",
    "- para cada t2:T2 de cada conjunto de t1:T1 en r.relIzq, tenemos la tupla <t1, t2> en r'.elems\n",
    "- el tamanio de r'.elems es igual a la suma de todos los elementos de todos los conjuntos en r.relIzq"
   ]
  },
  {
   "cell_type": "markdown",
   "metadata": {},
   "source": [
    "3. \n",
    "\n",
    "A. Utilizaria un array de 100 posiciones que tiene O(1) para todo, la unica desventaja es que es acotado pero no pasa nada :)\n",
    "\n",
    "B. Una lista enlazada, ya que agregarAtras o agregarAdelante tienen una complejidad de O(1), pero obtener valores en posiciones especificas es O(n)\n",
    "\n",
    "C. Podria utilizar un vector, ya que consultar es O(1), pero agregar es O(n)\n",
    "\n",
    "    resol> es malo ya que para encontrar un valor igual es O(n). Cualquier estructura logn estaria bien, pero un 'diccionarioDigital adaptado' seria ideal... ?"
   ]
  },
  {
   "cell_type": "markdown",
   "metadata": {},
   "source": [
    "4. \n",
    "\n",
    "Idea:\n",
    "\n",
    "Como la LU de los estudiantes esta acotada, puedo ordenar usando counting sort en O(n+k) = O(n)\n",
    "\n",
    "    listaInput.countingSort() // en primera coordenada de las tuplas O(n)\n",
    "\n",
    "Una vez que los tengo ordenados, puedo recorrerlos en O(n) y agregarlos a un ListaEnlazada, sabiendo cuando no esta (ya que puedo saber que antes no fue agregado cuando el alumno es distinto al anterior) usando agregarAtras en O(1), y para cada nota, sumando 1 en la posicion de la nota\n",
    "\n",
    "    // supongo que es una lista enlazada\n",
    "    actual = listaInput.head\n",
    "    while actual.siguiente != null\n",
    "\n",
    "        ...\n",
    "        lista.agregarAtras(alumno, notas)\n",
    "\n",
    "notas es un arreglo de 100 elementos, donde la i-esima posicion dice cuantas notas tiene con ese valor\n",
    "\n",
    "promedio es int\n",
    "\n",
    "var lista ListaEnlazada<alumno, tupla(notas, promedio)> \n",
    "\n",
    "en O(n) tengo los alumnos con sus notas y puedo acceder a ellos en O(m)\n",
    "\n",
    "calculamos el promedio en O(m)\n",
    "\n",
    "    actual = lista.head\n",
    "\n",
    "    while actual.siguiente != null\n",
    "\n",
    "        suma = 0 \n",
    "        cant = 0\n",
    "\n",
    "        for i in 0,100\n",
    "            cant += notas[i]\n",
    "            suma += i*notas[i]\n",
    "    \n",
    "        actual.tupla[1] = suma / cant\n",
    "\n",
    "ordenamos usando merge en promedios, en O(m logm)\n",
    "\n",
    "finalmente el algoritmo queda en O(n + mlogm)\n"
   ]
  },
  {
   "cell_type": "markdown",
   "metadata": {},
   "source": []
  }
 ],
 "metadata": {
  "language_info": {
   "name": "python"
  }
 },
 "nbformat": 4,
 "nbformat_minor": 2
}

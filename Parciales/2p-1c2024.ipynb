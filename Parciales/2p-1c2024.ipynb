{
 "cells": [
  {
   "cell_type": "markdown",
   "metadata": {},
   "source": [
    "1. \n",
    "\n",
    "A. Para insertar en estas condiciones, primero debemos hacer la copia en O(n), luego recorrer la lista enlazada en O(n) en peor caso, y comparando en cada posicion en O(logn). \n",
    "\n",
    "Como para cada una de las n posiciones debemos comparar, ahi tenemos una complejidad temporal de O(nlogn)\n",
    "\n",
    "Finalmente la complejidad de todo el algoritmo seria: O(n) + O(nlogn) = O(nlogn)\n",
    "\n",
    "B. No es cierto. La cota inferior del peor caso de un algoritmo no nos restringe la cota del mismo en el mejor caso. Por ejemplo en un algoritmo de busqueda lineal, el peor caso donde el elemento no esta en la estructura, puede ser ohm(n), mientras que el mejor caso, que el primer elemento sea el buscado, puede ser O(1) justamente.\n",
    "\n",
    "C. Es falso. Que no haya interseccion entre la cota inferior de g y la superior de f, no implica que no haya interseccion entre la cota superior de g y la cota inferior de f.\n",
    "\n",
    "Por ejemplo, si ohm(f(n)) = ohm(1), O(f(n)) = O(n), ohm(g(n)) = ohm(nlogn)y O(g(n)) = O(n^2), \n",
    "se da la hipotesis, pero la interseccion entre ohm(f(n)) y O(g(n)) no es vacia, va desde las funciones de orden constante a las cuadraticas."
   ]
  },
  {
   "cell_type": "markdown",
   "metadata": {},
   "source": [
    "2. \n",
    "\n",
    "A. Utilizaria un DiccionarioLog para almacenar tanto las relaciones de izq como las der, donde la clave es un T1 o T2 respectivamente, usando ConjuntoLog en cada valor. \n",
    "\n",
    "Para agregar en cualquiera de los dos se obtiene primero la clave en O(logn o m) y luego se agrega en O(logn o m) (el otro). Queda O(logn) +  O(logm) +  O(logm) +  O(logn) =  O(logn + logm) \n",
    "\n",
    "Luego retornar las relaciones busca el conjunto en el DictLog en O(logm o n)\n",
    "\n",
    "var relIzq DiccionarioLog<T1, ConjuntoLog<T2>>\n",
    "var relDer DiccionarioLog<T2, ConjuntoLog<T1>>\n",
    "\n",
    "B. Para lograr O(1) con el que mas relaciones tiene debemos utilizar otro atributo donde guardar el T1 que mas reaciones tiene. Al agregar nuevas relaciones, debemos consultar si el tamanio del conjuntoLog donde guardamos es mayor al tamano guardado, si es asi, lo reemplazamos.\n",
    "\n",
    "cantidad es int\n",
    "var masRelacionesIzq tupla<T1, cantidad>\n",
    "\n",
    "C. pred InvRep(r:RelImp)\n",
    "\n",
    "- un T1 contiene a un T2 si solo si ese T2 contiene a T1 en su conjuntoLog\n",
    "//- para todo t : T1, t pertenece a relIzq si solo si existe t2:T2 en relDer, cuyo conjuntoLog contiene a t.\n",
    "//- para todo t : T2, t pertenece a relDer si solo si existe t1:T1 en relIz1, cuyo conjuntoLog contiene a t.\n",
    "- masRelacionesIzq[0] pertenece a relIzq y masRelacionesIzq[1] es no negativo\n",
    "- la suma de todas las relaciones en Izq es igual a las de Der\n",
    "\n",
    "D. pred Abs (r:RelImp, r':TADRelaciones)\n",
    "\n",
    "- para cada t2:T2 de cada conjunto de t1:T1 en r.relIzq, tenemos la tupla <t1, t2> en r'.elems\n",
    "- el tamanio de r'.elems es igual a la suma de todos los elementos de todos los conjuntos en r.relIzq"
   ]
  },
  {
   "cell_type": "markdown",
   "metadata": {},
   "source": []
  }
 ],
 "metadata": {
  "language_info": {
   "name": "python"
  }
 },
 "nbformat": 4,
 "nbformat_minor": 2
}

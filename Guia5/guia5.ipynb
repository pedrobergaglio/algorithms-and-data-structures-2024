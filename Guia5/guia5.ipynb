{
 "cells": [
  {
   "cell_type": "markdown",
   "metadata": {},
   "source": [
    "1. \n",
    "\n",
    "A. Sale usando la regla de la suma. La suma de cada termino va a pertenecer al conjunto O(max(de cada termino)), y el término más grande es $n^2$\n",
    "\n",
    "B. Sabemos que $n^k$ es menor igual a $n^{k+1}$ para algún n. Si existe n0 para el cual a partir de ahí la función f es más chica de $n^k$, también existe un n1 = max(n0, n), para el cuál f es más chica que $n^{k+1}$.\n",
    "\n",
    "C.  Igual que B. Existe un n0 para el cual f es más chica que $logn$, y un n1 para el cual $logn < n$, por lo que a partir de $max(n0, n1)$, f es más chica que $n$."
   ]
  },
  {
   "cell_type": "markdown",
   "metadata": {},
   "source": [
    "3. Intuitivamente, que $O(f) ⊆ O(g)$ significa que el orden de magnitud de f es menor o igual al de g. Que f crece más lento que g.\n",
    "\n",
    "Si ambas están contenidas entre sí, quiere decír que crecen con igual orden de magnitud.\n",
    "\n",
    "4. \n",
    "\n",
    "A. No es cierto, ambos casos pueden ser iguales por lo que tendrían mismo orden de magnitud y estaría contenido.\n",
    "\n",
    "B. Si, incluso tienen el mismo orden de magnitud, sólo distinta constante.\n",
    "\n",
    "C. El mejor caso para el algoritmo es el caso en el que el input tiene tamaño menor a 100. El mejor caso puede depender del tamaño del input y este es un ejemplo claro. En este caso es O(1).\n",
    "\n",
    "D. Si es cierto, ya que f está por debajo de la cota inferior de g.\n",
    "\n",
    "E. No es cierto. La cota inferior del peor caso puede ser una estrictamente mayor a la cota superior del mejor caso. Si Tmejor es 1, y el Tpeor es n^2, es un ejemplo donde efectivamente se da este caso.\n",
    "\n",
    "F. Es correcto. El mejor caso siempre está por debajo del peor, por lo que si el mejor está acotado superiormente por algo más grande que el segundo, esta afiermación va a ser siempre correcta.\n",
    "\n",
    "\n"
   ]
  },
  {
   "cell_type": "markdown",
   "metadata": {},
   "source": []
  }
 ],
 "metadata": {
  "language_info": {
   "name": "python"
  }
 },
 "nbformat": 4,
 "nbformat_minor": 2
}
